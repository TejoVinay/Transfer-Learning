{
 "cells": [
  {
   "cell_type": "code",
   "execution_count": 1,
   "metadata": {},
   "outputs": [],
   "source": [
    "from tensorflow.keras.preprocessing.image import ImageDataGenerator\n",
    "from tensorflow.keras.preprocessing.image import img_to_array\n",
    "from tensorflow.keras.preprocessing.image import load_img\n",
    "import numpy as np\n",
    "import os"
   ]
  },
  {
   "cell_type": "code",
   "execution_count": 2,
   "metadata": {},
   "outputs": [],
   "source": [
    "aug = ImageDataGenerator(\n",
    "    rotation_range=30,\n",
    "    zoom_range=0.15,\n",
    "    width_shift_range=0.2,\n",
    "    height_shift_range=0.2,\n",
    "    shear_range=0.15,\n",
    "    horizontal_flip=True,\n",
    "    fill_mode=\"nearest\")"
   ]
  },
  {
   "cell_type": "code",
   "execution_count": 3,
   "metadata": {},
   "outputs": [],
   "source": [
    "PATH = os.getcwd()\n",
    "# Define data path\n",
    "data_path = PATH + '/data'\n",
    "data_dir_list = os.listdir(data_path)"
   ]
  },
  {
   "cell_type": "code",
   "execution_count": 4,
   "metadata": {},
   "outputs": [
    {
     "name": "stdout",
     "output_type": "stream",
     "text": [
      "C:\\Users\\Tejo Vinay\\Desktop\\Deep Learning Lab\\Transfer Learning Anuj\n",
      "C:\\Users\\Tejo Vinay\\Desktop\\Deep Learning Lab\\Transfer Learning Anuj/data\n",
      "['cats', 'dogs', 'horses', 'Humans']\n"
     ]
    }
   ],
   "source": [
    "print(PATH)\n",
    "print(data_path)\n",
    "print(data_dir_list)"
   ]
  },
  {
   "cell_type": "code",
   "execution_count": 5,
   "metadata": {},
   "outputs": [
    {
     "name": "stdout",
     "output_type": "stream",
     "text": [
      "Loaded the images of dataset-cats\n",
      "\n",
      "Loaded the images of dataset-dogs\n",
      "\n",
      "Loaded the images of dataset-horses\n",
      "\n",
      "Loaded the images of dataset-Humans\n",
      "\n"
     ]
    }
   ],
   "source": [
    "for dataset in data_dir_list:\n",
    "    img_list=os.listdir(data_path+'/'+ dataset)\n",
    "    print ('Loaded the images of dataset-'+'{}\\n'.format(dataset))\n",
    "    for img in img_list:\n",
    "        img_path = data_path + '/'+ dataset + '/'+ img\n",
    "        img = load_img(img_path)\n",
    "        img = img_to_array(img)\n",
    "        img = np.expand_dims(img, axis=0)\n",
    "        total = 0\n",
    "        imageGen = aug.flow(img, batch_size=1, save_to_dir=PATH+'/augmented/'+dataset,save_prefix=\"image\", save_format=\"jpg\")\n",
    "        # loop over examples from our image data augmentation generator\n",
    "        for image in imageGen:\n",
    "            # increment our counter\n",
    "            total += 1\n",
    "            # if we have reached the specified number of examples, break\n",
    "            # from the loop\n",
    "            if total == 3:\n",
    "                break"
   ]
  },
  {
   "cell_type": "code",
   "execution_count": null,
   "metadata": {},
   "outputs": [],
   "source": []
  }
 ],
 "metadata": {
  "kernelspec": {
   "display_name": "Python 3",
   "language": "python",
   "name": "python3"
  },
  "language_info": {
   "codemirror_mode": {
    "name": "ipython",
    "version": 3
   },
   "file_extension": ".py",
   "mimetype": "text/x-python",
   "name": "python",
   "nbconvert_exporter": "python",
   "pygments_lexer": "ipython3",
   "version": "3.7.3"
  }
 },
 "nbformat": 4,
 "nbformat_minor": 2
}
